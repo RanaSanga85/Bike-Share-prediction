{
 "cells": [
  {
   "cell_type": "code",
   "execution_count": 26,
   "id": "c84ad78f-fd50-47b6-a7b0-6f9be1947740",
   "metadata": {},
   "outputs": [],
   "source": [
    "import pandas as pd\n",
    "import numpy as np\n",
    "import matplotlib.pyplot as plt\n",
    "import seaborn as sns\n",
    "import warnings\n",
    "%matplotlib inline\n",
    "warnings.filterwarnings('ignore')\n",
    "import scipy.stats as stats\n",
    "from scipy.stats import probplot, boxcox\n",
    "from scipy.stats import probplot\n",
    "from sklearn.feature_selection import VarianceThreshold, SelectKBest, chi2\n",
    "from sklearn.metrics import mean_absolute_error,mean_squared_error,r2_score\n",
    "from sklearn.ensemble import RandomForestRegressor\n",
    "from sklearn.linear_model import LinearRegression\n",
    "from sklearn.linear_model import Lasso\n",
    "from sklearn.decomposition import PCA\n",
    "from sklearn.model_selection import train_test_split\n",
    "from xgboost import XGBRegressor"
   ]
  },
  {
   "cell_type": "code",
   "execution_count": 7,
   "id": "4b5c3f0f-44be-4c59-89cf-07951845297e",
   "metadata": {},
   "outputs": [
    {
     "data": {
      "text/html": [
       "<div>\n",
       "<style scoped>\n",
       "    .dataframe tbody tr th:only-of-type {\n",
       "        vertical-align: middle;\n",
       "    }\n",
       "\n",
       "    .dataframe tbody tr th {\n",
       "        vertical-align: top;\n",
       "    }\n",
       "\n",
       "    .dataframe thead th {\n",
       "        text-align: right;\n",
       "    }\n",
       "</style>\n",
       "<table border=\"1\" class=\"dataframe\">\n",
       "  <thead>\n",
       "    <tr style=\"text-align: right;\">\n",
       "      <th></th>\n",
       "      <th>season</th>\n",
       "      <th>year</th>\n",
       "      <th>month</th>\n",
       "      <th>hour</th>\n",
       "      <th>holiday</th>\n",
       "      <th>weekday</th>\n",
       "      <th>workingday</th>\n",
       "      <th>weather</th>\n",
       "      <th>temp</th>\n",
       "      <th>atemp</th>\n",
       "      <th>humidity</th>\n",
       "      <th>windspeed</th>\n",
       "      <th>casual</th>\n",
       "      <th>registered</th>\n",
       "      <th>count</th>\n",
       "      <th>day</th>\n",
       "    </tr>\n",
       "  </thead>\n",
       "  <tbody>\n",
       "    <tr>\n",
       "      <th>0</th>\n",
       "      <td>1</td>\n",
       "      <td>0</td>\n",
       "      <td>1</td>\n",
       "      <td>0</td>\n",
       "      <td>0</td>\n",
       "      <td>6</td>\n",
       "      <td>0</td>\n",
       "      <td>1</td>\n",
       "      <td>0.24</td>\n",
       "      <td>0.2879</td>\n",
       "      <td>0.81</td>\n",
       "      <td>0.0</td>\n",
       "      <td>3</td>\n",
       "      <td>13</td>\n",
       "      <td>16</td>\n",
       "      <td>Saturday</td>\n",
       "    </tr>\n",
       "    <tr>\n",
       "      <th>1</th>\n",
       "      <td>1</td>\n",
       "      <td>0</td>\n",
       "      <td>1</td>\n",
       "      <td>1</td>\n",
       "      <td>0</td>\n",
       "      <td>6</td>\n",
       "      <td>0</td>\n",
       "      <td>1</td>\n",
       "      <td>0.22</td>\n",
       "      <td>0.2727</td>\n",
       "      <td>0.80</td>\n",
       "      <td>0.0</td>\n",
       "      <td>8</td>\n",
       "      <td>32</td>\n",
       "      <td>40</td>\n",
       "      <td>Saturday</td>\n",
       "    </tr>\n",
       "    <tr>\n",
       "      <th>2</th>\n",
       "      <td>1</td>\n",
       "      <td>0</td>\n",
       "      <td>1</td>\n",
       "      <td>2</td>\n",
       "      <td>0</td>\n",
       "      <td>6</td>\n",
       "      <td>0</td>\n",
       "      <td>1</td>\n",
       "      <td>0.22</td>\n",
       "      <td>0.2727</td>\n",
       "      <td>0.80</td>\n",
       "      <td>0.0</td>\n",
       "      <td>5</td>\n",
       "      <td>27</td>\n",
       "      <td>32</td>\n",
       "      <td>Saturday</td>\n",
       "    </tr>\n",
       "    <tr>\n",
       "      <th>3</th>\n",
       "      <td>1</td>\n",
       "      <td>0</td>\n",
       "      <td>1</td>\n",
       "      <td>3</td>\n",
       "      <td>0</td>\n",
       "      <td>6</td>\n",
       "      <td>0</td>\n",
       "      <td>1</td>\n",
       "      <td>0.24</td>\n",
       "      <td>0.2879</td>\n",
       "      <td>0.75</td>\n",
       "      <td>0.0</td>\n",
       "      <td>3</td>\n",
       "      <td>10</td>\n",
       "      <td>13</td>\n",
       "      <td>Saturday</td>\n",
       "    </tr>\n",
       "    <tr>\n",
       "      <th>4</th>\n",
       "      <td>1</td>\n",
       "      <td>0</td>\n",
       "      <td>1</td>\n",
       "      <td>4</td>\n",
       "      <td>0</td>\n",
       "      <td>6</td>\n",
       "      <td>0</td>\n",
       "      <td>1</td>\n",
       "      <td>0.24</td>\n",
       "      <td>0.2879</td>\n",
       "      <td>0.75</td>\n",
       "      <td>0.0</td>\n",
       "      <td>0</td>\n",
       "      <td>1</td>\n",
       "      <td>1</td>\n",
       "      <td>Saturday</td>\n",
       "    </tr>\n",
       "  </tbody>\n",
       "</table>\n",
       "</div>"
      ],
      "text/plain": [
       "   season  year  month  hour  holiday  weekday  workingday  weather  temp  \\\n",
       "0       1     0      1     0        0        6           0        1  0.24   \n",
       "1       1     0      1     1        0        6           0        1  0.22   \n",
       "2       1     0      1     2        0        6           0        1  0.22   \n",
       "3       1     0      1     3        0        6           0        1  0.24   \n",
       "4       1     0      1     4        0        6           0        1  0.24   \n",
       "\n",
       "    atemp  humidity  windspeed  casual  registered  count       day  \n",
       "0  0.2879      0.81        0.0       3          13     16  Saturday  \n",
       "1  0.2727      0.80        0.0       8          32     40  Saturday  \n",
       "2  0.2727      0.80        0.0       5          27     32  Saturday  \n",
       "3  0.2879      0.75        0.0       3          10     13  Saturday  \n",
       "4  0.2879      0.75        0.0       0           1      1  Saturday  "
      ]
     },
     "execution_count": 7,
     "metadata": {},
     "output_type": "execute_result"
    }
   ],
   "source": [
    "df = pd.read_csv('hour1.csv')\n",
    "df.head()"
   ]
  },
  {
   "cell_type": "markdown",
   "id": "a24e1ca0-dcc6-406f-8867-ec435964cb16",
   "metadata": {},
   "source": [
    "# Feature Selection"
   ]
  },
  {
   "cell_type": "code",
   "execution_count": 8,
   "id": "80345651-5e34-48a8-88ae-0990382218f0",
   "metadata": {},
   "outputs": [],
   "source": [
    "# Drop the 'day' column from the DataFrame\n",
    "df = df.drop(columns=['day'])"
   ]
  },
  {
   "cell_type": "code",
   "execution_count": 14,
   "id": "5c2e4507-113b-4837-ad4f-552960493bed",
   "metadata": {},
   "outputs": [],
   "source": [
    "X = df.drop(['count', 'registered', 'casual'], axis=1)\n",
    "y = df['count']\n",
    "\n",
    "# Split data\n",
    "X_train, X_test, y_train, y_test = train_test_split(X, y, test_size=0.2, random_state=42)\n",
    "\n",
    "# Variance Threshold\n",
    "selector = VarianceThreshold(threshold=0.05)\n",
    "X_high_variance = selector.fit_transform(X_train)\n",
    "\n",
    "# Chi-Squared Test\n",
    "# Convert y_train to discrete format using binning\n",
    "num_bins = 5\n",
    "y_train_binned = pd.cut(y_train, bins=num_bins, labels=range(num_bins))\n",
    "\n",
    "# Limit the number of selected features (k) to the number of features available\n",
    "chi_selector = SelectKBest(chi2, k=min(10, X_high_variance.shape[1]))\n",
    "X_kbest = chi_selector.fit_transform(X_high_variance, y_train_binned)  # Use the binned target variable"
   ]
  },
  {
   "cell_type": "markdown",
   "id": "fa076f86-315d-4bf0-bf80-700cbbc0005f",
   "metadata": {},
   "source": [
    "<li>Variance Threshold: This removes features with low variance, as features with very low variance are unlikely to be useful for making predictions. The threshold=0.05 means features with a variance below 0.05 are removed. X_high_variance contains only the high-variance features from X_train\n",
    "<li>Chi-Squared Test: This step evaluates the relationship between each feature and the target variable.\n",
    "<li>Convert y_train to discrete format using binning: Since the Chi-Squared test requires categorical data, the continuous target variable y_train is binned into 5 categories (num_bins=5).\n",
    "<li>SelectKBest: Selects the best features according to the Chi-Squared test. k=min(10, X_high_variance.shape[1]) ensures that the number of selected features (k) does not exceed the number of available features. X_kbest contains the selected features."
   ]
  },
  {
   "cell_type": "code",
   "execution_count": 15,
   "id": "7d540aa5-4155-4901-b349-0d2f5c499964",
   "metadata": {},
   "outputs": [
    {
     "data": {
      "text/html": [
       "<div>\n",
       "<style scoped>\n",
       "    .dataframe tbody tr th:only-of-type {\n",
       "        vertical-align: middle;\n",
       "    }\n",
       "\n",
       "    .dataframe tbody tr th {\n",
       "        vertical-align: top;\n",
       "    }\n",
       "\n",
       "    .dataframe thead th {\n",
       "        text-align: right;\n",
       "    }\n",
       "</style>\n",
       "<table border=\"1\" class=\"dataframe\">\n",
       "  <thead>\n",
       "    <tr style=\"text-align: right;\">\n",
       "      <th></th>\n",
       "      <th>Feature</th>\n",
       "      <th>Importance</th>\n",
       "    </tr>\n",
       "  </thead>\n",
       "  <tbody>\n",
       "    <tr>\n",
       "      <th>0</th>\n",
       "      <td>season</td>\n",
       "      <td>0.021954</td>\n",
       "    </tr>\n",
       "    <tr>\n",
       "      <th>1</th>\n",
       "      <td>year</td>\n",
       "      <td>0.080773</td>\n",
       "    </tr>\n",
       "    <tr>\n",
       "      <th>2</th>\n",
       "      <td>month</td>\n",
       "      <td>0.016611</td>\n",
       "    </tr>\n",
       "    <tr>\n",
       "      <th>3</th>\n",
       "      <td>hour</td>\n",
       "      <td>0.615009</td>\n",
       "    </tr>\n",
       "    <tr>\n",
       "      <th>4</th>\n",
       "      <td>holiday</td>\n",
       "      <td>0.002564</td>\n",
       "    </tr>\n",
       "    <tr>\n",
       "      <th>5</th>\n",
       "      <td>weekday</td>\n",
       "      <td>0.012517</td>\n",
       "    </tr>\n",
       "    <tr>\n",
       "      <th>6</th>\n",
       "      <td>workingday</td>\n",
       "      <td>0.055965</td>\n",
       "    </tr>\n",
       "    <tr>\n",
       "      <th>7</th>\n",
       "      <td>weather</td>\n",
       "      <td>0.018128</td>\n",
       "    </tr>\n",
       "    <tr>\n",
       "      <th>8</th>\n",
       "      <td>temp</td>\n",
       "      <td>0.119221</td>\n",
       "    </tr>\n",
       "    <tr>\n",
       "      <th>9</th>\n",
       "      <td>atemp</td>\n",
       "      <td>0.020852</td>\n",
       "    </tr>\n",
       "    <tr>\n",
       "      <th>10</th>\n",
       "      <td>humidity</td>\n",
       "      <td>0.026026</td>\n",
       "    </tr>\n",
       "    <tr>\n",
       "      <th>11</th>\n",
       "      <td>windspeed</td>\n",
       "      <td>0.010381</td>\n",
       "    </tr>\n",
       "  </tbody>\n",
       "</table>\n",
       "</div>"
      ],
      "text/plain": [
       "       Feature  Importance\n",
       "0       season    0.021954\n",
       "1         year    0.080773\n",
       "2        month    0.016611\n",
       "3         hour    0.615009\n",
       "4      holiday    0.002564\n",
       "5      weekday    0.012517\n",
       "6   workingday    0.055965\n",
       "7      weather    0.018128\n",
       "8         temp    0.119221\n",
       "9        atemp    0.020852\n",
       "10    humidity    0.026026\n",
       "11   windspeed    0.010381"
      ]
     },
     "execution_count": 15,
     "metadata": {},
     "output_type": "execute_result"
    }
   ],
   "source": [
    "# Random Forest Importance\n",
    "rf = RandomForestRegressor()  #RandomForestRegressor\n",
    "rf.fit(X_train, y_train)\n",
    "rf_importances = pd.Series(rf.feature_importances_, index=X_train.columns)\n",
    "\n",
    "\n",
    "feature_importances_df = pd.DataFrame({\n",
    "    'Feature': rf_importances.index,\n",
    "    'Importance': rf_importances.values\n",
    "})\n",
    "\n",
    "# Display the DataFrame\n",
    "feature_importances_df"
   ]
  },
  {
   "cell_type": "markdown",
   "id": "c5aae2ff-3213-4835-b350-ac5672c2ef75",
   "metadata": {},
   "source": [
    "<li>feature_importances_: Gives the importance of each feature. rf_importances is a pandas Series containing these importances indexed by the feature names.\n",
    "<li> These values are determined by how much the feature decreases the impurity of the splits in the decision trees of the Random Forest.\n",
    "<li>The values are relative and sum up to 1. A higher value means that the feature has a greater impact on the model's predictions."
   ]
  },
  {
   "cell_type": "code",
   "execution_count": 16,
   "id": "8dafd0b5-41c5-488b-b380-2ec6d3e71cb6",
   "metadata": {},
   "outputs": [
    {
     "data": {
      "text/html": [
       "<div>\n",
       "<style scoped>\n",
       "    .dataframe tbody tr th:only-of-type {\n",
       "        vertical-align: middle;\n",
       "    }\n",
       "\n",
       "    .dataframe tbody tr th {\n",
       "        vertical-align: top;\n",
       "    }\n",
       "\n",
       "    .dataframe thead th {\n",
       "        text-align: right;\n",
       "    }\n",
       "</style>\n",
       "<table border=\"1\" class=\"dataframe\">\n",
       "  <thead>\n",
       "    <tr style=\"text-align: right;\">\n",
       "      <th></th>\n",
       "      <th>Feature</th>\n",
       "      <th>Importance</th>\n",
       "    </tr>\n",
       "  </thead>\n",
       "  <tbody>\n",
       "    <tr>\n",
       "      <th>0</th>\n",
       "      <td>season</td>\n",
       "      <td>20.516624</td>\n",
       "    </tr>\n",
       "    <tr>\n",
       "      <th>1</th>\n",
       "      <td>year</td>\n",
       "      <td>82.811779</td>\n",
       "    </tr>\n",
       "    <tr>\n",
       "      <th>2</th>\n",
       "      <td>month</td>\n",
       "      <td>0.116887</td>\n",
       "    </tr>\n",
       "    <tr>\n",
       "      <th>3</th>\n",
       "      <td>hour</td>\n",
       "      <td>7.666641</td>\n",
       "    </tr>\n",
       "    <tr>\n",
       "      <th>4</th>\n",
       "      <td>holiday</td>\n",
       "      <td>-23.785574</td>\n",
       "    </tr>\n",
       "    <tr>\n",
       "      <th>5</th>\n",
       "      <td>weekday</td>\n",
       "      <td>1.777400</td>\n",
       "    </tr>\n",
       "    <tr>\n",
       "      <th>6</th>\n",
       "      <td>workingday</td>\n",
       "      <td>3.887516</td>\n",
       "    </tr>\n",
       "    <tr>\n",
       "      <th>7</th>\n",
       "      <td>weather</td>\n",
       "      <td>-3.440864</td>\n",
       "    </tr>\n",
       "    <tr>\n",
       "      <th>8</th>\n",
       "      <td>temp</td>\n",
       "      <td>101.750552</td>\n",
       "    </tr>\n",
       "    <tr>\n",
       "      <th>9</th>\n",
       "      <td>atemp</td>\n",
       "      <td>201.646406</td>\n",
       "    </tr>\n",
       "    <tr>\n",
       "      <th>10</th>\n",
       "      <td>humidity</td>\n",
       "      <td>-199.262875</td>\n",
       "    </tr>\n",
       "    <tr>\n",
       "      <th>11</th>\n",
       "      <td>windspeed</td>\n",
       "      <td>33.675869</td>\n",
       "    </tr>\n",
       "  </tbody>\n",
       "</table>\n",
       "</div>"
      ],
      "text/plain": [
       "       Feature  Importance\n",
       "0       season   20.516624\n",
       "1         year   82.811779\n",
       "2        month    0.116887\n",
       "3         hour    7.666641\n",
       "4      holiday  -23.785574\n",
       "5      weekday    1.777400\n",
       "6   workingday    3.887516\n",
       "7      weather   -3.440864\n",
       "8         temp  101.750552\n",
       "9        atemp  201.646406\n",
       "10    humidity -199.262875\n",
       "11   windspeed   33.675869"
      ]
     },
     "execution_count": 16,
     "metadata": {},
     "output_type": "execute_result"
    }
   ],
   "source": [
    "# Lasso Regression\n",
    "lasso = Lasso(alpha=0.01)\n",
    "lasso.fit(X_train, y_train)\n",
    "lasso_importances = pd.Series(lasso.coef_, index=X_train.columns)\n",
    "feature_importances_df = pd.DataFrame({\n",
    "    'Feature': lasso_importances.index,\n",
    "    'Importance': lasso_importances.values\n",
    "})\n",
    "\n",
    "# Display the DataFrame\n",
    "feature_importances_df"
   ]
  },
  {
   "cell_type": "markdown",
   "id": "33e8ff3a-00f1-4ac7-a2bb-396da5112875",
   "metadata": {},
   "source": [
    "<li>Lasso(alpha=0.01): Lasso regression with a regularization strength of 0.01. Lasso can shrink some coefficients to zero, effectively performing feature selection.\n",
    "<li>coef_: Contains the coefficients of the features. lasso_importances is a pandas Series containing these coefficients indexed by the feature names.\n",
    "<li>Positive Values: Positive importance values indicate that as the feature value increases, the predicted bike count increases.\n",
    "<li>Negative Values: Negative importance values suggest that as the feature value increases, the predicted bike count decreases."
   ]
  },
  {
   "cell_type": "code",
   "execution_count": 17,
   "id": "ec552ac4-4a08-48d8-9fbd-7a34476f8528",
   "metadata": {},
   "outputs": [
    {
     "name": "stdout",
     "output_type": "stream",
     "text": [
      "Important features identified:  ['hour', 'temp', 'year', 'workingday', 'humidity', 'season', 'atemp', 'weather', 'month', 'weekday', 'windspeed']\n"
     ]
    }
   ],
   "source": [
    "# PCA\n",
    "pca = PCA(n_components=5)\n",
    "pca.fit(X_train)\n",
    "pca_importances = pca.components_\n",
    "\n",
    "# Combine results\n",
    "important_features = rf_importances.nlargest(11).index.tolist()\n",
    "print(\"Important features identified: \", important_features)"
   ]
  },
  {
   "cell_type": "markdown",
   "id": "312ac1d9-c4d9-4c3c-9627-c030fa46c128",
   "metadata": {},
   "source": [
    "<li>PCA(n_components=5): Reduces the feature set to 5 principal components.\n",
    "<li>components_: Contains the principal components. pca_importances holds these components.\n",
    "<li>nlargest(11): Selects the top 11 most important features according to the Random Forest importance scores.\n",
    "<li>index.tolist(): Converts the index of the top 11 features to a list."
   ]
  },
  {
   "cell_type": "code",
   "execution_count": 19,
   "id": "dc1191aa-318e-4166-a358-5b253c84d4ba",
   "metadata": {},
   "outputs": [],
   "source": [
    "important_features = ['hour', 'temp', 'year', 'workingday', 'humidity', \n",
    "                      'season', 'atemp', 'weather', 'month', 'weekday', 'windspeed', 'casual', 'registered', 'count']\n",
    "\n",
    "# Creating a new DataFrame using only the important features\n",
    "new_df = df[important_features]"
   ]
  },
  {
   "cell_type": "code",
   "execution_count": 20,
   "id": "de168113-c145-4c3d-94ce-10922297a33c",
   "metadata": {},
   "outputs": [],
   "source": [
    "new_df = new_df.drop(columns=['year'])"
   ]
  },
  {
   "cell_type": "markdown",
   "id": "e81a9d72-b2b7-4f36-a8c5-3a52d062bccc",
   "metadata": {},
   "source": [
    "# Feature transformation"
   ]
  },
  {
   "cell_type": "code",
   "execution_count": 27,
   "id": "d1fcf297-5fd7-4880-b76f-a0b00a9585f8",
   "metadata": {},
   "outputs": [
    {
     "data": {
      "image/png": "[encoded data removed]",
      "text/plain": [
       "<Figure size 1400x500 with 2 Axes>"
      ]
     },
     "metadata": {},
     "output_type": "display_data"
    },
    {
     "data": {
      "image/png": "[encoded data removed]",
      "text/plain": [
       "<Figure size 1400x500 with 2 Axes>"
      ]
     },
     "metadata": {},
     "output_type": "display_data"
    }
   ],
   "source": [
    "plt.figure(figsize=(14, 5))\n",
    "\n",
    "# Original Distribution and Q-Q Plot\n",
    "plt.subplot(1, 2, 1)\n",
    "sns.histplot(new_df['windspeed'], kde=True)\n",
    "plt.title('Original Distribution')\n",
    "\n",
    "plt.subplot(1, 2, 2)\n",
    "probplot(new_df['windspeed'], dist=\"norm\", plot=plt)\n",
    "plt.title('Q-Q Plot for Original Data')\n",
    "\n",
    "plt.tight_layout()\n",
    "plt.show()\n",
    "\n",
    "# Log Transformation\n",
    "new_df['windspeed'] = np.log1p(new_df['windspeed'])\n",
    "\n",
    "plt.figure(figsize=(14, 5))\n",
    "plt.subplot(1, 2, 1)\n",
    "sns.histplot(new_df['windspeed'], kde=True)\n",
    "plt.title('Log Transformed Distribution')\n",
    "\n",
    "plt.subplot(1, 2, 2)\n",
    "probplot(new_df['windspeed'], dist=\"norm\", plot=plt)\n",
    "plt.title('Q-Q Plot for Log Transformed Data')\n",
    "\n",
    "plt.tight_layout()\n",
    "plt.show()"
   ]
  },
  {
   "cell_type": "markdown",
   "id": "66343401-a24e-4fb3-88f9-37a6a315122b",
   "metadata": {},
   "source": [
    "# MODELLING"
   ]
  },
  {
   "cell_type": "code",
   "execution_count": 50,
   "id": "9206283f-6222-48c0-b33a-0667afd4bfca",
   "metadata": {},
   "outputs": [],
   "source": [
    "X = new_df.drop(columns=['count'], axis=1)\n",
    "y = new_df['count']"
   ]
  },
  {
   "cell_type": "code",
   "execution_count": 51,
   "id": "b2b2fe4b-77c7-48f2-9ef9-05146b3316c8",
   "metadata": {},
   "outputs": [],
   "source": [
    "X_train, X_test, y_train, y_test = train_test_split(X, y, test_size=0.25, random_state=42)"
   ]
  },
  {
   "cell_type": "code",
   "execution_count": 52,
   "id": "166d22b0-06cb-4793-814d-5fd27e0db509",
   "metadata": {},
   "outputs": [
    {
     "data": {
      "text/plain": [
       "((13034, 12), (13034,), (4345, 12), (4345,))"
      ]
     },
     "execution_count": 52,
     "metadata": {},
     "output_type": "execute_result"
    }
   ],
   "source": [
    " X_train.shape, y_train.shape, X_test.shape, y_test.shape"
   ]
  },
  {
   "cell_type": "code",
   "execution_count": 53,
   "id": "4428b304-5b97-46c8-b6fa-2a5804deda99",
   "metadata": {},
   "outputs": [
    {
     "data": {
      "text/html": [
       "<style>#sk-container-id-3 {color: black;background-color: white;}#sk-container-id-3 pre{padding: 0;}#sk-container-id-3 div.sk-toggleable {background-color: white;}#sk-container-id-3 label.sk-toggleable__label {cursor: pointer;display: block;width: 100%;margin-bottom: 0;padding: 0.3em;box-sizing: border-box;text-align: center;}#sk-container-id-3 label.sk-toggleable__label-arrow:before {content: \"▸\";float: left;margin-right: 0.25em;color: #696969;}#sk-container-id-3 label.sk-toggleable__label-arrow:hover:before {color: black;}#sk-container-id-3 div.sk-estimator:hover label.sk-toggleable__label-arrow:before {color: black;}#sk-container-id-3 div.sk-toggleable__content {max-height: 0;max-width: 0;overflow: hidden;text-align: left;background-color: #f0f8ff;}#sk-container-id-3 div.sk-toggleable__content pre {margin: 0.2em;color: black;border-radius: 0.25em;background-color: #f0f8ff;}#sk-container-id-3 input.sk-toggleable__control:checked~div.sk-toggleable__content {max-height: 200px;max-width: 100%;overflow: auto;}#sk-container-id-3 input.sk-toggleable__control:checked~label.sk-toggleable__label-arrow:before {content: \"▾\";}#sk-container-id-3 div.sk-estimator input.sk-toggleable__control:checked~label.sk-toggleable__label {background-color: #d4ebff;}#sk-container-id-3 div.sk-label input.sk-toggleable__control:checked~label.sk-toggleable__label {background-color: #d4ebff;}#sk-container-id-3 input.sk-hidden--visually {border: 0;clip: rect(1px 1px 1px 1px);clip: rect(1px, 1px, 1px, 1px);height: 1px;margin: -1px;overflow: hidden;padding: 0;position: absolute;width: 1px;}#sk-container-id-3 div.sk-estimator {font-family: monospace;background-color: #f0f8ff;border: 1px dotted black;border-radius: 0.25em;box-sizing: border-box;margin-bottom: 0.5em;}#sk-container-id-3 div.sk-estimator:hover {background-color: #d4ebff;}#sk-container-id-3 div.sk-parallel-item::after {content: \"\";width: 100%;border-bottom: 1px solid gray;flex-grow: 1;}#sk-container-id-3 div.sk-label:hover label.sk-toggleable__label {background-color: #d4ebff;}#sk-container-id-3 div.sk-serial::before {content: \"\";position: absolute;border-left: 1px solid gray;box-sizing: border-box;top: 0;bottom: 0;left: 50%;z-index: 0;}#sk-container-id-3 div.sk-serial {display: flex;flex-direction: column;align-items: center;background-color: white;padding-right: 0.2em;padding-left: 0.2em;position: relative;}#sk-container-id-3 div.sk-item {position: relative;z-index: 1;}#sk-container-id-3 div.sk-parallel {display: flex;align-items: stretch;justify-content: center;background-color: white;position: relative;}#sk-container-id-3 div.sk-item::before, #sk-container-id-3 div.sk-parallel-item::before {content: \"\";position: absolute;border-left: 1px solid gray;box-sizing: border-box;top: 0;bottom: 0;left: 50%;z-index: -1;}#sk-container-id-3 div.sk-parallel-item {display: flex;flex-direction: column;z-index: 1;position: relative;background-color: white;}#sk-container-id-3 div.sk-parallel-item:first-child::after {align-self: flex-end;width: 50%;}#sk-container-id-3 div.sk-parallel-item:last-child::after {align-self: flex-start;width: 50%;}#sk-container-id-3 div.sk-parallel-item:only-child::after {width: 0;}#sk-container-id-3 div.sk-dashed-wrapped {border: 1px dashed gray;margin: 0 0.4em 0.5em 0.4em;box-sizing: border-box;padding-bottom: 0.4em;background-color: white;}#sk-container-id-3 div.sk-label label {font-family: monospace;font-weight: bold;display: inline-block;line-height: 1.2em;}#sk-container-id-3 div.sk-label-container {text-align: center;}#sk-container-id-3 div.sk-container {/* jupyter's `normalize.less` sets `[hidden] { display: none; }` but bootstrap.min.css set `[hidden] { display: none !important; }` so we also need the `!important` here to be able to override the default hidden behavior on the sphinx rendered scikit-learn.org. See: https://github.com/scikit-learn/scikit-learn/issues/21755 */display: inline-block !important;position: relative;}#sk-container-id-3 div.sk-text-repr-fallback {display: none;}</style><div id=\"sk-container-id-3\" class=\"sk-top-container\"><div class=\"sk-text-repr-fallback\"><pre>LinearRegression()</pre><b>In a Jupyter environment, please rerun this cell to show the HTML representation or trust the notebook. <br />On GitHub, the HTML representation is unable to render, please try loading this page with nbviewer.org.</b></div><div class=\"sk-container\" hidden><div class=\"sk-item\"><div class=\"sk-estimator sk-toggleable\"><input class=\"sk-toggleable__control sk-hidden--visually\" id=\"sk-estimator-id-3\" type=\"checkbox\" checked><label for=\"sk-estimator-id-3\" class=\"sk-toggleable__label sk-toggleable__label-arrow\">LinearRegression</label><div class=\"sk-toggleable__content\"><pre>LinearRegression()</pre></div></div></div></div></div>"
      ],
      "text/plain": [
       "LinearRegression()"
      ]
     },
     "execution_count": 53,
     "metadata": {},
     "output_type": "execute_result"
    }
   ],
   "source": [
    "# ML Model - 1 Implementation\n",
    "rmodel = LinearRegression()\n",
    "# Fit the Algorithm\n",
    "rmodel.fit(X_train, y_train)"
   ]
  },
  {
   "cell_type": "code",
   "execution_count": 65,
   "id": "692e8c5e-c5c1-48af-9255-3a1fdd4a2b17",
   "metadata": {},
   "outputs": [
    {
     "data": {
      "text/plain": [
       "1.0"
      ]
     },
     "execution_count": 65,
     "metadata": {},
     "output_type": "execute_result"
    }
   ],
   "source": [
    "rmodel.score(X_train, y_train)"
   ]
  },
  {
   "cell_type": "code",
   "execution_count": 55,
   "id": "78fc82d4-728e-41fb-b128-0b0fc5fc934a",
   "metadata": {},
   "outputs": [],
   "source": [
    "# Predict on the model\n",
    "y_pred_train = rmodel.predict(X_train)\n",
    "y_pred = rmodel.predict(X_test)"
   ]
  },
  {
   "cell_type": "markdown",
   "id": "0320872c-e834-40b9-ac82-1772e870f9d3",
   "metadata": {},
   "source": [
    "### Performance using Evaluation metric Score Chart"
   ]
  },
  {
   "cell_type": "code",
   "execution_count": 56,
   "id": "2692a262-f857-4b63-b540-6b6c5d79d1ea",
   "metadata": {},
   "outputs": [
    {
     "name": "stdout",
     "output_type": "stream",
     "text": [
      "Training Set Performance:\n",
      "R^2: 1.0\n",
      "Adjusted R^2: 1.0\n",
      "MSE: 1.7354339299627862e-25\n",
      "RMSE: 4.1658539700315783e-13\n",
      "MAE: 3.2560846420186124e-13\n",
      "\n",
      "Testing Set Performance:\n",
      "R^2: 1.0\n",
      "Adjusted R^2: 1.0\n",
      "MSE: 1.6895176780502783e-25\n",
      "RMSE: 4.1103742871547333e-13\n",
      "MAE: 3.214177677369438e-13\n"
     ]
    }
   ],
   "source": [
    "def calculate_metrics(y_true, y_pred, X):\n",
    "    r2 = r2_score(y_true, y_pred)\n",
    "    adj_r2 = 1 - (1 - r2) * ( (X.shape[0] - 1) / (X.shape[0] - X.shape[1] - 1))\n",
    "    mse = mean_squared_error(y_true, y_pred)\n",
    "    rmse = np.sqrt(mse)\n",
    "    mae = mean_absolute_error(y_true, y_pred)\n",
    "    return r2, adj_r2, mse, rmse, mae\n",
    "\n",
    "# Calculate metrics for training set\n",
    "r2_train, adj_r2_train, mse_train, rmse_train, mae_train = calculate_metrics(y_train, y_pred_train, X_train)\n",
    "\n",
    "# Calculate metrics for testing set\n",
    "r2_test, adj_r2_test, mse_test, rmse_test, mae_test = calculate_metrics(y_test, y_pred, X_test)\n",
    "\n",
    "# Print the results\n",
    "print(f\"Training Set Performance:\")\n",
    "print(f\"R^2: {r2_train}\")\n",
    "print(f\"Adjusted R^2: {adj_r2_train}\")\n",
    "print(f\"MSE: {mse_train}\")\n",
    "print(f\"RMSE: {rmse_train}\")\n",
    "print(f\"MAE: {mae_train}\")\n",
    "\n",
    "print(f\"\\nTesting Set Performance:\")\n",
    "print(f\"R^2: {r2_test}\")\n",
    "print(f\"Adjusted R^2: {adj_r2_test}\")\n",
    "print(f\"MSE: {mse_test}\")\n",
    "print(f\"RMSE: {rmse_test}\")\n",
    "print(f\"MAE: {mae_test}\")"
   ]
  },
  {
   "cell_type": "code",
   "execution_count": 64,
   "id": "a69a0cdf-08d9-4ab3-a79e-660e13815116",
   "metadata": {},
   "outputs": [
    {
     "data": {
      "text/html": [
       "<div>\n",
       "<style scoped>\n",
       "    .dataframe tbody tr th:only-of-type {\n",
       "        vertical-align: middle;\n",
       "    }\n",
       "\n",
       "    .dataframe tbody tr th {\n",
       "        vertical-align: top;\n",
       "    }\n",
       "\n",
       "    .dataframe thead th {\n",
       "        text-align: right;\n",
       "    }\n",
       "</style>\n",
       "<table border=\"1\" class=\"dataframe\">\n",
       "  <thead>\n",
       "    <tr style=\"text-align: right;\">\n",
       "      <th></th>\n",
       "      <th>Model</th>\n",
       "      <th>R2_train</th>\n",
       "      <th>R2_test</th>\n",
       "      <th>Adjusted_R2_train</th>\n",
       "      <th>Adjusted_R2_test</th>\n",
       "      <th>MAE_train</th>\n",
       "      <th>MSE</th>\n",
       "      <th>MAE</th>\n",
       "      <th>MAE_test</th>\n",
       "      <th>RMSE_train</th>\n",
       "      <th>RMSE_test</th>\n",
       "    </tr>\n",
       "  </thead>\n",
       "  <tbody>\n",
       "    <tr>\n",
       "      <th>0</th>\n",
       "      <td>Linear_Regression</td>\n",
       "      <td>0.999962</td>\n",
       "      <td>0.999793</td>\n",
       "      <td>0.999962</td>\n",
       "      <td>0.999793</td>\n",
       "      <td>1.24831</td>\n",
       "      <td>6.646582</td>\n",
       "      <td>0.395184</td>\n",
       "      <td>0.953333</td>\n",
       "      <td>1.117278</td>\n",
       "      <td>2.578097</td>\n",
       "    </tr>\n",
       "  </tbody>\n",
       "</table>\n",
       "</div>"
      ],
      "text/plain": [
       "               Model  R2_train   R2_test  Adjusted_R2_train  Adjusted_R2_test  \\\n",
       "0  Linear_Regression  0.999962  0.999793           0.999962          0.999793   \n",
       "\n",
       "   MAE_train       MSE       MAE  MAE_test  RMSE_train  RMSE_test  \n",
       "0    1.24831  6.646582  0.395184  0.953333    1.117278   2.578097  "
      ]
     },
     "execution_count": 64,
     "metadata": {},
     "output_type": "execute_result"
    }
   ],
   "source": [
    "data = [\n",
    "    {\n",
    "        'Model': 'Linear_Regression',\n",
    "        'R2_train': r2_train,\n",
    "        'R2_test': r2_test, \n",
    "        'Adjusted_R2_train': adj_r2_train,\n",
    "        'Adjusted_R2_test': adj_r2_test,\n",
    "        'MAE_train': mse_train,\n",
    "        'MSE': mse_test,\n",
    "        'MAE': mae_train,\n",
    "        'MAE_test': mae_test,\n",
    "        'RMSE_train': rmse_train,\n",
    "        'RMSE_test': rmse_test\n",
    "    }\n",
    "]\n",
    "result = pd.DataFrame(data)\n",
    "result"
   ]
  },
  {
   "cell_type": "markdown",
   "id": "0761c37b-2a5e-422e-9146-96fc466f443f",
   "metadata": {},
   "source": [
    "#  RandomForest"
   ]
  },
  {
   "cell_type": "code",
   "execution_count": 58,
   "id": "1663723e-d018-45bb-b55c-3aca8f346077",
   "metadata": {},
   "outputs": [],
   "source": [
    "# Create an instance of the RandomForestRegressor\n",
    "rf_model = RandomForestRegressor()\n",
    "\n",
    "# Fit the Algorithm\n",
    "rf_model.fit(X_train,y_train)\n",
    "\n",
    "# Predict on the model\n",
    "# Making predictions on train and test data\n",
    "y_pred_train2 = rf_model.predict(X_train)\n",
    "y_pred2 = rf_model.predict(X_test)"
   ]
  },
  {
   "cell_type": "code",
   "execution_count": 59,
   "id": "6aa04154-9f62-451c-a72b-2d626f0d214d",
   "metadata": {},
   "outputs": [
    {
     "data": {
      "text/plain": [
       "0.9999623360026856"
      ]
     },
     "execution_count": 59,
     "metadata": {},
     "output_type": "execute_result"
    }
   ],
   "source": [
    "rf_model.score(X_train, y_train)"
   ]
  },
  {
   "cell_type": "markdown",
   "id": "c463188d-b436-4a9e-8c9c-99142b7dfb7e",
   "metadata": {},
   "source": [
    "### Performance using Evaluation metric Score Chart"
   ]
  },
  {
   "cell_type": "code",
   "execution_count": 60,
   "id": "186d1504-fc47-43a2-865c-e2fec77e0b4f",
   "metadata": {},
   "outputs": [
    {
     "name": "stdout",
     "output_type": "stream",
     "text": [
      "Training Set Performance:\n",
      "R^2: 0.9999623360026856\n",
      "Adjusted R^2: 0.9999623012919899\n",
      "MSE: 1.2483096286634965\n",
      "RMSE: 1.1172777759641943\n",
      "MAE: 0.3951841338038976\n",
      "\n",
      "Testing Set Performance:\n",
      "R^2: 0.9997933168209452\n",
      "Adjusted R^2: 0.9997927442913633\n",
      "MSE: 6.6465820713463755\n",
      "RMSE: 2.5780965985289175\n",
      "MAE: 0.9533325661680095\n"
     ]
    }
   ],
   "source": [
    "def calculate_metrics(y_true, y_pred, X):\n",
    "    r2 = r2_score(y_true, y_pred)\n",
    "    adj_r2 = 1 - (1 - r2) * ( (X.shape[0] - 1) / (X.shape[0] - X.shape[1] - 1))\n",
    "    mse = mean_squared_error(y_true, y_pred)\n",
    "    rmse = np.sqrt(mse)\n",
    "    mae = mean_absolute_error(y_true, y_pred)\n",
    "    return r2, adj_r2, mse, rmse, mae\n",
    "\n",
    "# Calculate metrics for training set\n",
    "r2_train, adj_r2_train, mse_train, rmse_train, mae_train = calculate_metrics(y_train, y_pred_train2, X_train)\n",
    "\n",
    "# Calculate metrics for testing set\n",
    "r2_test, adj_r2_test, mse_test, rmse_test, mae_test = calculate_metrics(y_test, y_pred2, X_test)\n",
    "\n",
    "# Print the results\n",
    "print(f\"Training Set Performance:\")\n",
    "print(f\"R^2: {r2_train}\")\n",
    "print(f\"Adjusted R^2: {adj_r2_train}\")\n",
    "print(f\"MSE: {mse_train}\")\n",
    "print(f\"RMSE: {rmse_train}\")\n",
    "print(f\"MAE: {mae_train}\")\n",
    "\n",
    "print(f\"\\nTesting Set Performance:\")\n",
    "print(f\"R^2: {r2_test}\")\n",
    "print(f\"Adjusted R^2: {adj_r2_test}\")\n",
    "print(f\"MSE: {mse_test}\")\n",
    "print(f\"RMSE: {rmse_test}\")\n",
    "print(f\"MAE: {mae_test}\")"
   ]
  },
  {
   "cell_type": "code",
   "execution_count": 66,
   "id": "6560369b-30a4-4d9f-a399-3ed1b0b7fdea",
   "metadata": {},
   "outputs": [
    {
     "data": {
      "text/html": [
       "<div>\n",
       "<style scoped>\n",
       "    .dataframe tbody tr th:only-of-type {\n",
       "        vertical-align: middle;\n",
       "    }\n",
       "\n",
       "    .dataframe tbody tr th {\n",
       "        vertical-align: top;\n",
       "    }\n",
       "\n",
       "    .dataframe thead th {\n",
       "        text-align: right;\n",
       "    }\n",
       "</style>\n",
       "<table border=\"1\" class=\"dataframe\">\n",
       "  <thead>\n",
       "    <tr style=\"text-align: right;\">\n",
       "      <th></th>\n",
       "      <th>Model</th>\n",
       "      <th>R2_train</th>\n",
       "      <th>R2_test</th>\n",
       "      <th>Adjusted_R2_train</th>\n",
       "      <th>Adjusted_R2_test</th>\n",
       "      <th>MAE_train</th>\n",
       "      <th>MSE</th>\n",
       "      <th>MAE</th>\n",
       "      <th>MAE_test</th>\n",
       "      <th>RMSE_train</th>\n",
       "      <th>RMSE_test</th>\n",
       "    </tr>\n",
       "  </thead>\n",
       "  <tbody>\n",
       "    <tr>\n",
       "      <th>0</th>\n",
       "      <td>Linear_Regression</td>\n",
       "      <td>0.999962</td>\n",
       "      <td>0.999793</td>\n",
       "      <td>0.999962</td>\n",
       "      <td>0.999793</td>\n",
       "      <td>1.248310</td>\n",
       "      <td>6.646582</td>\n",
       "      <td>0.395184</td>\n",
       "      <td>0.953333</td>\n",
       "      <td>1.117278</td>\n",
       "      <td>2.578097</td>\n",
       "    </tr>\n",
       "    <tr>\n",
       "      <th>1</th>\n",
       "      <td>RandomForestRegressor</td>\n",
       "      <td>0.999962</td>\n",
       "      <td>0.999793</td>\n",
       "      <td>0.999962</td>\n",
       "      <td>0.999793</td>\n",
       "      <td>0.395184</td>\n",
       "      <td>6.646582</td>\n",
       "      <td>0.395184</td>\n",
       "      <td>0.953333</td>\n",
       "      <td>1.117278</td>\n",
       "      <td>2.578097</td>\n",
       "    </tr>\n",
       "  </tbody>\n",
       "</table>\n",
       "</div>"
      ],
      "text/plain": [
       "                   Model  R2_train   R2_test  Adjusted_R2_train  \\\n",
       "0      Linear_Regression  0.999962  0.999793           0.999962   \n",
       "1  RandomForestRegressor  0.999962  0.999793           0.999962   \n",
       "\n",
       "   Adjusted_R2_test  MAE_train       MSE       MAE  MAE_test  RMSE_train  \\\n",
       "0          0.999793   1.248310  6.646582  0.395184  0.953333    1.117278   \n",
       "1          0.999793   0.395184  6.646582  0.395184  0.953333    1.117278   \n",
       "\n",
       "   RMSE_test  \n",
       "0   2.578097  \n",
       "1   2.578097  "
      ]
     },
     "execution_count": 66,
     "metadata": {},
     "output_type": "execute_result"
    }
   ],
   "source": [
    "data2 = {\n",
    "    'Model': 'RandomForestRegressor',\n",
    "    'R2_train': r2_train,\n",
    "    'R2_test': r2_test, \n",
    "    'Adjusted_R2_train': adj_r2_train,\n",
    "    'Adjusted_R2_test': adj_r2_test,\n",
    "    'MAE_train': mae_train,\n",
    "    'MSE': mse_test,\n",
    "    'MAE': mae_train,\n",
    "    'MAE_test': mae_test,\n",
    "    'RMSE_train': rmse_train,\n",
    "    'RMSE_test': rmse_test\n",
    "}\n",
    "\n",
    "# Append the new row to the DataFrame\n",
    "data2_df = pd.DataFrame([data2])\n",
    "\n",
    "# Concatenate the new DataFrame to the existing one\n",
    "result = pd.concat([result, data2_df], ignore_index=True)\n",
    "\n",
    "result"
   ]
  },
  {
   "cell_type": "markdown",
   "id": "6c17b001-17ab-4826-a8e9-4af9146b06aa",
   "metadata": {},
   "source": [
    "# XGBRegressor"
   ]
  },
  {
   "cell_type": "code",
   "execution_count": 67,
   "id": "7e2a3633-73cd-4ab2-b857-3abf51fcd3a1",
   "metadata": {},
   "outputs": [],
   "source": [
    "# ML Model - 3 Implementation\n",
    "# Create an instance of the RandomForestClassifier\n",
    "xg_model = XGBRegressor(objective= 'reg:squarederror')\n",
    "\n",
    "# Fit the Algorithm\n",
    "xg_models=xg_model.fit(X_train,y_train)\n",
    "\n",
    "# Predict on the model\n",
    "# Making predictions on train and test data\n",
    "\n",
    "y_pred_train5 = xg_models.predict(X_train)\n",
    "y_pred5 = xg_models.predict(X_test)"
   ]
  },
  {
   "cell_type": "code",
   "execution_count": 68,
   "id": "e5340a9c-c83e-482b-9e1d-6156e24c5d67",
   "metadata": {},
   "outputs": [
    {
     "data": {
      "text/plain": [
       "0.99989782459427"
      ]
     },
     "execution_count": 68,
     "metadata": {},
     "output_type": "execute_result"
    }
   ],
   "source": [
    "xg_model.score(X_train, y_train)"
   ]
  },
  {
   "cell_type": "markdown",
   "id": "b774796f-2feb-4ce7-b264-85a06a9663d2",
   "metadata": {},
   "source": [
    "### Performance using Evaluation metric Score Chart"
   ]
  },
  {
   "cell_type": "code",
   "execution_count": 69,
   "id": "cbabcc10-0b57-46f7-be16-aad84ae43353",
   "metadata": {},
   "outputs": [
    {
     "name": "stdout",
     "output_type": "stream",
     "text": [
      "Training Set Performance:\n",
      "R^2: 0.99989782459427\n",
      "Adjusted R^2: 0.9998977304306214\n",
      "MSE: 3.386431390185032\n",
      "RMSE: 1.8402259073779588\n",
      "MAE: 1.2374333161297653\n",
      "\n",
      "Testing Set Performance:\n",
      "R^2: 0.9994468145692919\n",
      "Adjusted R^2: 0.9994452821996777\n",
      "MSE: 17.789509444789168\n",
      "RMSE: 4.217761188686382\n",
      "MAE: 2.125619778740118\n"
     ]
    }
   ],
   "source": [
    "def calculate_metrics(y_true, y_pred, X):\n",
    "    r2 = r2_score(y_true, y_pred)\n",
    "    adj_r2 = 1 - (1 - r2) * ( (X.shape[0] - 1) / (X.shape[0] - X.shape[1] - 1))\n",
    "    mse = mean_squared_error(y_true, y_pred)\n",
    "    rmse = np.sqrt(mse)\n",
    "    mae = mean_absolute_error(y_true, y_pred)\n",
    "    return r2, adj_r2, mse, rmse, mae\n",
    "\n",
    "# Calculate metrics for training set\n",
    "r2_train, adj_r2_train, mse_train, rmse_train, mae_train = calculate_metrics(y_train, y_pred_train5, X_train)\n",
    "\n",
    "# Calculate metrics for testing set\n",
    "r2_test, adj_r2_test, mse_test, rmse_test, mae_test = calculate_metrics(y_test, y_pred5, X_test)\n",
    "\n",
    "# Print the results\n",
    "print(f\"Training Set Performance:\")\n",
    "print(f\"R^2: {r2_train}\")\n",
    "print(f\"Adjusted R^2: {adj_r2_train}\")\n",
    "print(f\"MSE: {mse_train}\")\n",
    "print(f\"RMSE: {rmse_train}\")\n",
    "print(f\"MAE: {mae_train}\")\n",
    "\n",
    "print(f\"\\nTesting Set Performance:\")\n",
    "print(f\"R^2: {r2_test}\")\n",
    "print(f\"Adjusted R^2: {adj_r2_test}\")\n",
    "print(f\"MSE: {mse_test}\")\n",
    "print(f\"RMSE: {rmse_test}\")\n",
    "print(f\"MAE: {mae_test}\")"
   ]
  },
  {
   "cell_type": "code",
   "execution_count": 70,
   "id": "e637070d-40fd-49bc-b42c-df5c7737d9a2",
   "metadata": {},
   "outputs": [
    {
     "data": {
      "text/html": [
       "<div>\n",
       "<style scoped>\n",
       "    .dataframe tbody tr th:only-of-type {\n",
       "        vertical-align: middle;\n",
       "    }\n",
       "\n",
       "    .dataframe tbody tr th {\n",
       "        vertical-align: top;\n",
       "    }\n",
       "\n",
       "    .dataframe thead th {\n",
       "        text-align: right;\n",
       "    }\n",
       "</style>\n",
       "<table border=\"1\" class=\"dataframe\">\n",
       "  <thead>\n",
       "    <tr style=\"text-align: right;\">\n",
       "      <th></th>\n",
       "      <th>Model</th>\n",
       "      <th>R2_train</th>\n",
       "      <th>R2_test</th>\n",
       "      <th>Adjusted_R2_train</th>\n",
       "      <th>Adjusted_R2_test</th>\n",
       "      <th>MAE_train</th>\n",
       "      <th>MSE</th>\n",
       "      <th>MAE</th>\n",
       "      <th>MAE_test</th>\n",
       "      <th>RMSE_train</th>\n",
       "      <th>RMSE_test</th>\n",
       "    </tr>\n",
       "  </thead>\n",
       "  <tbody>\n",
       "    <tr>\n",
       "      <th>0</th>\n",
       "      <td>Linear_Regression</td>\n",
       "      <td>0.999962</td>\n",
       "      <td>0.999793</td>\n",
       "      <td>0.999962</td>\n",
       "      <td>0.999793</td>\n",
       "      <td>1.248310</td>\n",
       "      <td>6.646582</td>\n",
       "      <td>0.395184</td>\n",
       "      <td>0.953333</td>\n",
       "      <td>1.117278</td>\n",
       "      <td>2.578097</td>\n",
       "    </tr>\n",
       "    <tr>\n",
       "      <th>1</th>\n",
       "      <td>RandomForestRegressor</td>\n",
       "      <td>0.999962</td>\n",
       "      <td>0.999793</td>\n",
       "      <td>0.999962</td>\n",
       "      <td>0.999793</td>\n",
       "      <td>0.395184</td>\n",
       "      <td>6.646582</td>\n",
       "      <td>0.395184</td>\n",
       "      <td>0.953333</td>\n",
       "      <td>1.117278</td>\n",
       "      <td>2.578097</td>\n",
       "    </tr>\n",
       "    <tr>\n",
       "      <th>2</th>\n",
       "      <td>XGBRegressor</td>\n",
       "      <td>0.999898</td>\n",
       "      <td>0.999447</td>\n",
       "      <td>0.999898</td>\n",
       "      <td>0.999445</td>\n",
       "      <td>1.237433</td>\n",
       "      <td>17.789509</td>\n",
       "      <td>1.237433</td>\n",
       "      <td>2.125620</td>\n",
       "      <td>1.840226</td>\n",
       "      <td>4.217761</td>\n",
       "    </tr>\n",
       "  </tbody>\n",
       "</table>\n",
       "</div>"
      ],
      "text/plain": [
       "                   Model  R2_train   R2_test  Adjusted_R2_train  \\\n",
       "0      Linear_Regression  0.999962  0.999793           0.999962   \n",
       "1  RandomForestRegressor  0.999962  0.999793           0.999962   \n",
       "2           XGBRegressor  0.999898  0.999447           0.999898   \n",
       "\n",
       "   Adjusted_R2_test  MAE_train        MSE       MAE  MAE_test  RMSE_train  \\\n",
       "0          0.999793   1.248310   6.646582  0.395184  0.953333    1.117278   \n",
       "1          0.999793   0.395184   6.646582  0.395184  0.953333    1.117278   \n",
       "2          0.999445   1.237433  17.789509  1.237433  2.125620    1.840226   \n",
       "\n",
       "   RMSE_test  \n",
       "0   2.578097  \n",
       "1   2.578097  \n",
       "2   4.217761  "
      ]
     },
     "execution_count": 70,
     "metadata": {},
     "output_type": "execute_result"
    }
   ],
   "source": [
    "data3 = {\n",
    "    'Model': 'XGBRegressor',\n",
    "    'R2_train': r2_train,\n",
    "    'R2_test': r2_test, \n",
    "    'Adjusted_R2_train': adj_r2_train,\n",
    "    'Adjusted_R2_test': adj_r2_test,\n",
    "    'MAE_train': mae_train,\n",
    "    'MSE': mse_test,\n",
    "    'MAE': mae_train,\n",
    "    'MAE_test': mae_test,\n",
    "    'RMSE_train': rmse_train,\n",
    "    'RMSE_test': rmse_test\n",
    "}\n",
    "\n",
    "# Append the new row to the DataFrame\n",
    "data3_df = pd.DataFrame([data3])\n",
    "\n",
    "# Concatenate the new DataFrame to the existing one\n",
    "result = pd.concat([result, data3_df], ignore_index=True)\n",
    "\n",
    "result"
   ]
  },
  {
   "cell_type": "markdown",
   "id": "80850ffb-3e0d-49c4-ba78-ddfe3dc1e251",
   "metadata": {},
   "source": [
    "#### Observations\n",
    "\n",
    "**Linear Regression:**\n",
    "<li>R²_train (0.645848) and R²_test (0.643576) are relatively close, indicating the model generalizes well from training to testing data.\n",
    "<li>Adjusted R² values (0.644456 for train and 0.639342 for test) are slightly lower but follow a similar pattern, confirming the model’s performance.\n",
    "<li>MAE_train (10554.43) and MAE_test (74.98) values suggest an issue with scaling or reporting errors, as these values should be more consistent.\n",
    "<li>MSE (10271.71) and RMSE (101.35) on test data indicate substantial errors in predictions, pointing to less accuracy.</li>\n",
    "    \n",
    "**Random Forest Regressor:**\n",
    "<li>R²_train (0.976681) is very high, indicating excellent fit on the training data.\n",
    "<li>R²_test (0.842174) is significantly lower but still high, suggesting some overfitting but overall good performance on the test data.\n",
    "<li>Adjusted R² values (0.976590 for train and 0.840299 for test) follow a similar trend, supporting the R² observations.\n",
    "<li>MAE (17.71) on train and MAE_test (46.00) indicate better performance compared to Linear Regression, with lower average errors.\n",
    "<li>MSE (4548.37) and RMSE_test (67.44) are much lower than those for Linear Regression, showing improved prediction accuracy.</li>\n",
    "\n",
    "**XGBoost Regressor:**\n",
    "<li>R²_train (0.922630) is high, indicating good fit on the training data.\n",
    "<li>R²_test (0.843379) is close to Random Forest's R²_test, indicating similarly good performance on the test data.\n",
    "<li>Adjusted R² values (0.922326 for train and 0.841518 for test) support the R² findings, showing high but slightly less fit than Random Forest.\n",
    "<li>MAE (33.86) on train and MAE_test (47.35) are higher than those for Random Forest, indicating more average errors.\n",
    "<li>MSE (4513.63) and RMSE_test (67.18) are similar to those for Random Forest, showing competitive prediction accuracy.</li>\n",
    "\n",
    "**Implications**\n",
    "<li>Random Forest Regressor slightly outperforms XGBoost Regressor in terms of R² and error metrics, but both models perform significantly better than Linear Regression.\n",
    "<li>The high R²_train for Random Forest suggests a risk of overfitting, though the acceptable R²_test mitigates this concern to some extent.\n",
    "<li>XGBoost Regressor provides competitive performance, with slightly higher errors but similar predictive power compared to Random Forest."
   ]
  },
  {
   "cell_type": "code",
   "execution_count": null,
   "id": "c58acc8a-b053-4377-aecc-bc65059a403a",
   "metadata": {},
   "outputs": [],
   "source": []
  }
 ],
 "metadata": {
  "kernelspec": {
   "display_name": "Python 3 (ipykernel)",
   "language": "python",
   "name": "python3"
  },
  "language_info": {
   "codemirror_mode": {
    "name": "ipython",
    "version": 3
   },
   "file_extension": ".py",
   "mimetype": "text/x-python",
   "name": "python",
   "nbconvert_exporter": "python",
   "pygments_lexer": "ipython3",
   "version": "3.11.7"
  }
 },
 "nbformat": 4,
 "nbformat_minor": 5
}
